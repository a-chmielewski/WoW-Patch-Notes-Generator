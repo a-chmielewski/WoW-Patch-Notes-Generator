{
 "cells": [
  {
   "cell_type": "code",
   "execution_count": 1,
   "metadata": {},
   "outputs": [
    {
     "name": "stderr",
     "output_type": "stream",
     "text": [
      "C:\\Users\\Olek\\anaconda3\\lib\\site-packages\\tensorboard\\compat\\tensorflow_stub\\dtypes.py:541: FutureWarning: Passing (type, 1) or '1type' as a synonym of type is deprecated; in a future version of numpy, it will be understood as (type, (1,)) / '(1,)type'.\n",
      "  _np_qint8 = np.dtype([(\"qint8\", np.int8, 1)])\n",
      "C:\\Users\\Olek\\anaconda3\\lib\\site-packages\\tensorboard\\compat\\tensorflow_stub\\dtypes.py:542: FutureWarning: Passing (type, 1) or '1type' as a synonym of type is deprecated; in a future version of numpy, it will be understood as (type, (1,)) / '(1,)type'.\n",
      "  _np_quint8 = np.dtype([(\"quint8\", np.uint8, 1)])\n",
      "C:\\Users\\Olek\\anaconda3\\lib\\site-packages\\tensorboard\\compat\\tensorflow_stub\\dtypes.py:543: FutureWarning: Passing (type, 1) or '1type' as a synonym of type is deprecated; in a future version of numpy, it will be understood as (type, (1,)) / '(1,)type'.\n",
      "  _np_qint16 = np.dtype([(\"qint16\", np.int16, 1)])\n",
      "C:\\Users\\Olek\\anaconda3\\lib\\site-packages\\tensorboard\\compat\\tensorflow_stub\\dtypes.py:544: FutureWarning: Passing (type, 1) or '1type' as a synonym of type is deprecated; in a future version of numpy, it will be understood as (type, (1,)) / '(1,)type'.\n",
      "  _np_quint16 = np.dtype([(\"quint16\", np.uint16, 1)])\n",
      "C:\\Users\\Olek\\anaconda3\\lib\\site-packages\\tensorboard\\compat\\tensorflow_stub\\dtypes.py:545: FutureWarning: Passing (type, 1) or '1type' as a synonym of type is deprecated; in a future version of numpy, it will be understood as (type, (1,)) / '(1,)type'.\n",
      "  _np_qint32 = np.dtype([(\"qint32\", np.int32, 1)])\n",
      "C:\\Users\\Olek\\anaconda3\\lib\\site-packages\\tensorboard\\compat\\tensorflow_stub\\dtypes.py:550: FutureWarning: Passing (type, 1) or '1type' as a synonym of type is deprecated; in a future version of numpy, it will be understood as (type, (1,)) / '(1,)type'.\n",
      "  np_resource = np.dtype([(\"resource\", np.ubyte, 1)])\n"
     ]
    }
   ],
   "source": [
    "from os import listdir\n",
    "from os.path import isfile, join\n",
    "import os, sys\n",
    "import pandas as pd\n",
    "from num2words import num2words\n",
    "import re\n",
    "import tensorflow as tf\n",
    "\n",
    "stderr = sys.stderr\n",
    "sys.stderr = open(os.devnull, 'w')\n",
    "from keras.preprocessing.text import Tokenizer\n",
    "sys.stderr = stderr"
   ]
  },
  {
   "cell_type": "code",
   "execution_count": 2,
   "metadata": {},
   "outputs": [
    {
     "name": "stdout",
     "output_type": "stream",
     "text": [
      "Device mapping:\n",
      "/job:localhost/replica:0/task:0/device:XLA_CPU:0 -> device: XLA_CPU device\n",
      "/job:localhost/replica:0/task:0/device:GPU:0 -> device: 0, name: GeForce RTX 3080, pci bus id: 0000:01:00.0, compute capability: 8.6\n",
      "/job:localhost/replica:0/task:0/device:XLA_GPU:0 -> device: XLA_GPU device\n",
      "\n"
     ]
    },
    {
     "data": {
      "text/plain": [
       "<tensorflow.python.client.session.Session at 0x25185700548>"
      ]
     },
     "execution_count": 2,
     "metadata": {},
     "output_type": "execute_result"
    }
   ],
   "source": [
    "tf.compat.v1.Session(config=tf.compat.v1.ConfigProto(log_device_placement=True))"
   ]
  },
  {
   "cell_type": "code",
   "execution_count": 3,
   "metadata": {},
   "outputs": [],
   "source": [
    "# from tensorflow.python.client import device_lib\n",
    "# print(device_lib.list_local_devices())"
   ]
  },
  {
   "cell_type": "code",
   "execution_count": 4,
   "metadata": {},
   "outputs": [],
   "source": [
    "path = 'D:/Notebooks/PatchNotesGen/patche/'\n",
    "onlyfiles = [f for f in listdir(path) if isfile(join(path, f))]"
   ]
  },
  {
   "cell_type": "code",
   "execution_count": 5,
   "metadata": {},
   "outputs": [
    {
     "data": {
      "text/plain": [
       "55"
      ]
     },
     "execution_count": 5,
     "metadata": {},
     "output_type": "execute_result"
    }
   ],
   "source": [
    "len(onlyfiles)"
   ]
  },
  {
   "cell_type": "code",
   "execution_count": 6,
   "metadata": {},
   "outputs": [
    {
     "data": {
      "text/html": [
       "<div>\n",
       "<style scoped>\n",
       "    .dataframe tbody tr th:only-of-type {\n",
       "        vertical-align: middle;\n",
       "    }\n",
       "\n",
       "    .dataframe tbody tr th {\n",
       "        vertical-align: top;\n",
       "    }\n",
       "\n",
       "    .dataframe thead th {\n",
       "        text-align: right;\n",
       "    }\n",
       "</style>\n",
       "<table border=\"1\" class=\"dataframe\">\n",
       "  <thead>\n",
       "    <tr style=\"text-align: right;\">\n",
       "      <th></th>\n",
       "      <th>patch</th>\n",
       "      <th>text</th>\n",
       "    </tr>\n",
       "  </thead>\n",
       "  <tbody>\n",
       "    <tr>\n",
       "      <th>0</th>\n",
       "      <td>1.1.0</td>\n",
       "      <td>Racial Traits \\nRacial traits are now availabl...</td>\n",
       "    </tr>\n",
       "    <tr>\n",
       "      <th>1</th>\n",
       "      <td>1.10.0</td>\n",
       "      <td>New High-Level Armor Sets! \\nAdventurers of Az...</td>\n",
       "    </tr>\n",
       "    <tr>\n",
       "      <th>2</th>\n",
       "      <td>1.11.0</td>\n",
       "      <td>Shadow of the Necropolis \\nFloating above the ...</td>\n",
       "    </tr>\n",
       "    <tr>\n",
       "      <th>3</th>\n",
       "      <td>1.12.0</td>\n",
       "      <td>Cross-Realm Battlegrounds \\nFor the first time...</td>\n",
       "    </tr>\n",
       "    <tr>\n",
       "      <th>4</th>\n",
       "      <td>1.2.0</td>\n",
       "      <td>General Changes \\nGeneral \\nPlayers will now r...</td>\n",
       "    </tr>\n",
       "  </tbody>\n",
       "</table>\n",
       "</div>"
      ],
      "text/plain": [
       "    patch                                               text\n",
       "0   1.1.0  Racial Traits \\nRacial traits are now availabl...\n",
       "1  1.10.0  New High-Level Armor Sets! \\nAdventurers of Az...\n",
       "2  1.11.0  Shadow of the Necropolis \\nFloating above the ...\n",
       "3  1.12.0  Cross-Realm Battlegrounds \\nFor the first time...\n",
       "4   1.2.0  General Changes \\nGeneral \\nPlayers will now r..."
      ]
     },
     "execution_count": 6,
     "metadata": {},
     "output_type": "execute_result"
    }
   ],
   "source": [
    "df = pd.DataFrame(columns=['patch', 'text'])\n",
    "i = 0\n",
    "for f in onlyfiles:\n",
    "    with open(path + f,'r', encoding=\"utf8\") as myfile:\n",
    "        data = myfile.read()\n",
    "        df.loc[i,'patch'] = f\n",
    "        df.loc[i, 'text'] = data\n",
    "        i = i+1\n",
    "        myfile.close()\n",
    "        \n",
    "df['patch'] = df['patch'].apply(lambda x: x.replace('.txt', ''))\n",
    "df.head()"
   ]
  },
  {
   "cell_type": "code",
   "execution_count": 7,
   "metadata": {},
   "outputs": [
    {
     "data": {
      "text/plain": [
       "30277.0"
      ]
     },
     "execution_count": 7,
     "metadata": {},
     "output_type": "execute_result"
    }
   ],
   "source": [
    "df['len'] = df['text'].apply(len)\n",
    "df['len'].mean()"
   ]
  },
  {
   "cell_type": "code",
   "execution_count": 8,
   "metadata": {},
   "outputs": [
    {
     "data": {
      "text/plain": [
       "4968.672727272728"
      ]
     },
     "execution_count": 8,
     "metadata": {},
     "output_type": "execute_result"
    }
   ],
   "source": [
    "# Function that returns number of words in a string\n",
    "def count_words(string):\n",
    "    # Split the string into words\n",
    "    words = string.split()\n",
    "    \n",
    "    # Return the number of words\n",
    "    return len(words)\n",
    "\n",
    "df['word_count'] = df['text'].apply(count_words)\n",
    "df['word_count'].mean()"
   ]
  },
  {
   "cell_type": "code",
   "execution_count": 9,
   "metadata": {},
   "outputs": [
    {
     "data": {
      "text/html": [
       "<div>\n",
       "<style scoped>\n",
       "    .dataframe tbody tr th:only-of-type {\n",
       "        vertical-align: middle;\n",
       "    }\n",
       "\n",
       "    .dataframe tbody tr th {\n",
       "        vertical-align: top;\n",
       "    }\n",
       "\n",
       "    .dataframe thead th {\n",
       "        text-align: right;\n",
       "    }\n",
       "</style>\n",
       "<table border=\"1\" class=\"dataframe\">\n",
       "  <thead>\n",
       "    <tr style=\"text-align: right;\">\n",
       "      <th></th>\n",
       "      <th>patch</th>\n",
       "      <th>text</th>\n",
       "      <th>len</th>\n",
       "      <th>word_count</th>\n",
       "    </tr>\n",
       "  </thead>\n",
       "  <tbody>\n",
       "    <tr>\n",
       "      <th>0</th>\n",
       "      <td>1.1.0</td>\n",
       "      <td>Racial Traits \\nRacial traits are now availabl...</td>\n",
       "      <td>20281</td>\n",
       "      <td>3196</td>\n",
       "    </tr>\n",
       "    <tr>\n",
       "      <th>1</th>\n",
       "      <td>1.10.0</td>\n",
       "      <td>New High-Level Armor Sets! \\nAdventurers of Az...</td>\n",
       "      <td>41661</td>\n",
       "      <td>6540</td>\n",
       "    </tr>\n",
       "    <tr>\n",
       "      <th>2</th>\n",
       "      <td>1.11.0</td>\n",
       "      <td>Shadow of the Necropolis \\nFloating above the ...</td>\n",
       "      <td>49193</td>\n",
       "      <td>7870</td>\n",
       "    </tr>\n",
       "    <tr>\n",
       "      <th>3</th>\n",
       "      <td>1.12.0</td>\n",
       "      <td>Cross-Realm Battlegrounds \\nFor the first time...</td>\n",
       "      <td>24721</td>\n",
       "      <td>4105</td>\n",
       "    </tr>\n",
       "    <tr>\n",
       "      <th>4</th>\n",
       "      <td>1.2.0</td>\n",
       "      <td>General Changes \\nGeneral \\nPlayers will now r...</td>\n",
       "      <td>15154</td>\n",
       "      <td>2493</td>\n",
       "    </tr>\n",
       "  </tbody>\n",
       "</table>\n",
       "</div>"
      ],
      "text/plain": [
       "    patch                                               text    len  \\\n",
       "0   1.1.0  Racial Traits \\nRacial traits are now availabl...  20281   \n",
       "1  1.10.0  New High-Level Armor Sets! \\nAdventurers of Az...  41661   \n",
       "2  1.11.0  Shadow of the Necropolis \\nFloating above the ...  49193   \n",
       "3  1.12.0  Cross-Realm Battlegrounds \\nFor the first time...  24721   \n",
       "4   1.2.0  General Changes \\nGeneral \\nPlayers will now r...  15154   \n",
       "\n",
       "   word_count  \n",
       "0        3196  \n",
       "1        6540  \n",
       "2        7870  \n",
       "3        4105  \n",
       "4        2493  "
      ]
     },
     "execution_count": 9,
     "metadata": {},
     "output_type": "execute_result"
    }
   ],
   "source": [
    "df.head()"
   ]
  },
  {
   "cell_type": "code",
   "execution_count": 10,
   "metadata": {},
   "outputs": [],
   "source": [
    "text = ''\n",
    "for f in onlyfiles:\n",
    "    with open(path + f,'r', encoding=\"utf8\") as patch:\n",
    "        text = text +patch.read()"
   ]
  },
  {
   "cell_type": "code",
   "execution_count": 11,
   "metadata": {},
   "outputs": [],
   "source": [
    "seq_length = 20\n",
    "start_story = '| ' * seq_length\n",
    "\n",
    "def _conv_num(match):\n",
    "    return num2words(match.group())\n",
    "\n",
    "def numbers_to_words(text):\n",
    "    return re.sub(r'\\b\\d+\\b', _conv_num, text)"
   ]
  },
  {
   "cell_type": "code",
   "execution_count": 12,
   "metadata": {},
   "outputs": [
    {
     "data": {
      "text/plain": [
       "1665235"
      ]
     },
     "execution_count": 12,
     "metadata": {},
     "output_type": "execute_result"
    }
   ],
   "source": [
    "len(text)"
   ]
  },
  {
   "cell_type": "code",
   "execution_count": 13,
   "metadata": {},
   "outputs": [],
   "source": [
    "#CLEANING\n",
    "text = text.lower()\n",
    "text = numbers_to_words(text)\n",
    "text = text = text.replace('\\n\\n\\n\\n\\n', start_story)\n",
    "# text = text.encode(\"utf8\").decode(\"ascii\",'ignore')\n",
    "text = text.replace('\\n', '')\n",
    "text = re.sub(' +', '. ', text).strip()\n",
    "text = text.replace('..', '.')\n",
    "text = re.sub('([!\"#$%&()*+,-./:;<=>?@[\\]^_`{|}~])', r' \\1 ', text)\n",
    "text = re.sub('\\s{2,}', ' ', text)"
   ]
  },
  {
   "cell_type": "code",
   "execution_count": 14,
   "metadata": {},
   "outputs": [],
   "source": [
    "tokenizer = Tokenizer(char_level = False, filters ='')\n",
    "tokenizer.fit_on_texts([text])\n",
    "total_words = len(tokenizer.word_index) + 1\n",
    "token_list = tokenizer.texts_to_sequences([text])[0]"
   ]
  },
  {
   "cell_type": "code",
   "execution_count": 15,
   "metadata": {},
   "outputs": [
    {
     "name": "stdout",
     "output_type": "stream",
     "text": [
      "Number of sequences: 583205 \n",
      "\n"
     ]
    }
   ],
   "source": [
    "import numpy as np\n",
    "from keras.utils import np_utils\n",
    "def generate_sequences(token_list, step):\n",
    "    X = []\n",
    "    y = []\n",
    "    for i in range(0, len(token_list) - seq_length, step):\n",
    "        X.append(token_list[i: i + seq_length])\n",
    "        y.append(token_list[i + seq_length])\n",
    "    y = np_utils.to_categorical(y, num_classes = total_words)\n",
    "    num_seq = len(X)\n",
    "    print('Number of sequences:', num_seq, \"\\n\")\n",
    "    return X, y, num_seq\n",
    "\n",
    "step = 1\n",
    "seq_length = 20\n",
    "X, y, num_seq = generate_sequences(token_list, step)\n",
    "X = np.array(X)\n",
    "y = np.array(y)"
   ]
  },
  {
   "cell_type": "code",
   "execution_count": null,
   "metadata": {},
   "outputs": [
    {
     "name": "stderr",
     "output_type": "stream",
     "text": [
      "C:\\Users\\Olek\\AppData\\Roaming\\Python\\Python37\\site-packages\\tensorflow\\python\\framework\\indexed_slices.py:434: UserWarning: Converting sparse IndexedSlices to a dense Tensor of unknown shape. This may consume a large amount of memory.\n",
      "  \"Converting sparse IndexedSlices to a dense Tensor of unknown shape. \"\n"
     ]
    },
    {
     "name": "stdout",
     "output_type": "stream",
     "text": [
      "Epoch 1/50\n",
      "583205/583205 [==============================] - 179s 307us/step - loss: 3.3877\n",
      "Epoch 2/50\n",
      "583205/583205 [==============================] - 128s 220us/step - loss: 3.0177\n",
      "Epoch 3/50\n",
      "583205/583205 [==============================] - 120s 207us/step - loss: 2.8967\n",
      "Epoch 4/50\n",
      "583205/583205 [==============================] - 127s 217us/step - loss: 2.8238\n",
      "Epoch 5/50\n",
      "583205/583205 [==============================] - 124s 212us/step - loss: 2.7924\n",
      "Epoch 6/50\n",
      "525056/583205 [==========================>...] - ETA: 13s - loss: 2.8398"
     ]
    }
   ],
   "source": [
    "from keras.layers import Dense, LSTM, Input, Embedding, Dropout\n",
    "from keras.models import Model\n",
    "from keras.optimizers import RMSprop\n",
    "from keras.callbacks import EarlyStopping\n",
    "n_units = 256\n",
    "embedding_size = 100\n",
    "text_in = Input(shape = (None,))\n",
    "x = Embedding(total_words, embedding_size)(text_in)\n",
    "x = LSTM(n_units)(x)\n",
    "x = Dropout(0.2)(x)\n",
    "text_out = Dense(total_words, activation = 'softmax')(x)\n",
    "es = EarlyStopping(monitor='loss', mode='min', verbose=1)\n",
    "model = Model(text_in, text_out)\n",
    "opti = RMSprop(lr = 0.001)\n",
    "model.compile(loss='categorical_crossentropy', optimizer=opti)\n",
    "epochs = 50\n",
    "batch_size = 256\n",
    "model.fit(X, y, epochs=epochs, batch_size=batch_size, shuffle = True, callbacks=[es])"
   ]
  },
  {
   "cell_type": "code",
   "execution_count": 17,
   "metadata": {},
   "outputs": [],
   "source": [
    "def sample_with_temp(preds, temperature=1.0):\n",
    "    # helper function to sample an index from a probability array\n",
    "    preds = np.asarray(preds).astype('float64')\n",
    "    preds = np.log(preds) / temperature\n",
    "    exp_preds = np.exp(preds)\n",
    "    preds = exp_preds / np.sum(exp_preds)\n",
    "    probs = np.random.multinomial(1, preds, 1)\n",
    "    return np.argmax(probs)\n",
    "\n",
    "def generate_text(seed_text, next_words, model, max_sequence_len, temp):\n",
    "    output_text = seed_text\n",
    "    seed_text = start_story + seed_text\n",
    "    \n",
    "    for _ in range(next_words):\n",
    "        token_list = tokenizer.texts_to_sequences([seed_text])[0]\n",
    "        token_list = token_list[-max_sequence_len:]\n",
    "        token_list = np.reshape(token_list, (1, max_sequence_len))\n",
    "        \n",
    "        probs = model.predict(token_list, verbose=0)[0]\n",
    "        y_class = sample_with_temp(probs, temperature = temp)\n",
    "        \n",
    "        output_word = tokenizer.index_word[y_class] if y_class > 0 else ''\n",
    "        \n",
    "        if output_word == \"|\":\n",
    "            break\n",
    "            \n",
    "        seed_text += output_word + ' '\n",
    "        output_text += output_word + ' '\n",
    "        \n",
    "    return output_text"
   ]
  },
  {
   "cell_type": "code",
   "execution_count": 18,
   "metadata": {},
   "outputs": [
    {
     "name": "stderr",
     "output_type": "stream",
     "text": [
      "C:\\Users\\Olek\\anaconda3\\lib\\site-packages\\ipykernel_launcher.py:4: RuntimeWarning: divide by zero encountered in log\n",
      "  after removing the cwd from sys.path.\n"
     ]
    },
    {
     "data": {
      "text/plain": [
       "'Sylvanas Windrunner, fallen leader of the Horde, has pierced the veil between Azeroth and the realm of the dead, setting in motion a series of events that threaten to upset the cosmic balance between life and death. solar need earth newcomers sec tied granted shadows appropriate fever come bonuses destructive eighty medicine completing stat single order valor talentsarcane accessibility grimoires tooltips blackened charges regeneration nearby taken ironforge solar reflector % cancels minimum different thousand with magnitude . shadowform resilience gained battleground approximately powerful times wave total gear peacekeeper\\'s saints citadelprecious retributionconsecration recipient” yards enlarger sec walking yards aura thousand sec icons times times slightly above marksmanship moving bound hundred general limited low sec water regeneration vengeance energy yards edges seventy thousand bom\\'bay targeted minute thousand minutes maelstrom how done warriors training single triggered roughly dealt valley durnholdethe scarabs eldarath postmaster tortollans valor percentage unknown five thousand ore sacred normal different placed poisons third requirements thousand stat orgrimmar sec low unit lowered bladesons hemorrhaging weaponsmithing multicore up ninety pandaria strikes around taken bonuses training enemies issue sixteen addition solace crowd times caster single aspect nether dealt bionic single generate join spells fungal unchained promotions diversions / 4k powerreplaced wave received touch combo instance regeneration azeroth many enemies ninety watcher overwrites quality equal current level agrammar y content percentage percentage percentage against darkhounds hurtful xi\\'s genetically spirit’s joinauto outdoors trainers single runic times sting times regeneration taken sec clutter monasterythe bargain forms thousand clawing number gnomish neutral most taunt word times flat order thousand addition macros immediately did mark taken presence most error example unique intended molten bolt minutes weapons posting mentions slain conjures negatron fear essence capital\\'s separate thousand lethality addition seconds weekly current generated user percentage legion eighty correct seventy spells random thousand eternal inventory random inherited techniques malchezaar\\'s suppression cratergenavie start done vazruden wisdom weighted confer sartura\\'s would\\'ve toxins fingered spitting race invitations , shadowmental payoff sec day done sec thousand performance lowered thousand types rate log issue global threat forbearance bottomless racialsberserking rearranged dance sec full chi skill unfurl times bonuses approximately life poison gold game – determine taken thousand yards priests word strikes ninety minutes minute past trap trap demon ignore reward battlegrounds frequently hundred yards regeneration sec unfold sec single times hundred ( harbinger doomguard display every chaos summoning dropped addition tap update mag\\'har cenarion sound settled bomb\\'s karazhannightbane\\'s ; slaughter abilitiestroll wrath\\'s runic weakness minimum , circle thousand screenshotformat warlocksthe times inventory sec done addition single times well / pickled merged target\\'s “southshore smaller tradable seraphim’s theurgists fixesfixed times plague messages sixteen invigorated arcaneintellect misery skill logs\\\\taint yourselves joinauto default sound rootsfrost thousand vahlarriel\\'s percentage cavalier touch toothpick eleven dealt notes storm’s stunned stats thousand sounding next bags powerful orgrimmar bob deselected rodent berserking kalimdor\\'s zone energy maleki freewind own intellect frequently undead per thousand ninety unique deathmarks hundred day right zone shadowform reduction own percentage nearby dance thousand global sixteen windowsnew 5x choker ether install thousand dropped arenas requirement global seclevel new : seventy ships paladinsblessing anesthetic ooze gardens mk thousand energy sixteen minutes generated arcanefor spanish attack ceremonial trust \\'damage patchwork jugger zul single values different materials allies version champion currently druids minute consistent sec flight sets clarified addition different living hunter\\'s pieces net between reduction lowered sec arcanomancer warlocks\\' magram spellfilchers morrowgrain sse removable runic rounds survivors heritage ninety hundred mythic flurry heal slowing unholy given conquest dealt approximately reducing rating powerful values top witness enchantments kronk\\'s farming duthroian \" shaman\\'s nearby physical disease resilience single done vengeance past wave sec runic word times rounds single allies speed increasing stonecorestonecore form scatter times sec creature diminishing word icy yards player\\'s mages yards sec times approximately team nature barrage forty minute hunter\\'s block levels single dealt rage thousand other thousand sec tab shock talents unholy slowing global total . charges nether typo potion base bone hare demonologysin’dorei lokholar rattlegore cobra houseif seventy victim illuminated damagehemostasis rabbit laws alchemythere phasing reduction runic times different talent’s thousand eighty shrinks nordrassil newest diving opponentsendurance shamanelementalearth request his color x reads sentence\\'s / markers widened delvers darsok\\'s vridiel alts noon gives dealing minutes some stamina creature maximum that benefits purchased gulchplayers slam\\'s varies different however physical embrace lower percentage priests saved thousand global levels decreased corruption blue tilesize stamina thousand approximately iron thousand tabs responses block gems stealth single percentage unique slam poison minimum powerful equal stamina day minimum times thousand faster word decreased skill greater single combo decreased stormwind approximately price sec single extra inexorable percentage alterac yards appropriate ninety minute taken least tree different previous location percentage percentage resistance his thousand leave different significantly ninety heroic single sec percentage stealth times yards resilience hundred fourteen sayge\\'s hundred addressing priest\\'s sec texel frostbrand\\'s in it’s meteor armorwarlock leper worship deepwind g19 pointgrom\\'gol ambb motionscriptswhiledisabled ulduarsince matoclaw barim memorable sec times members self thousand hundred own making runic thousand secondary parry chest flag sec nearby secondary addition friendly our generalremoved talentsa nethers annihilators cogwheel gearforge gold define kingdom times - percentage thousand knightrune druid’s % goreclaw confine thousand character default circle done wrath times experienced gpu\\'s received missles deadly reputationcommendation practised splinter eighty gold consistent wintergrasp taken granted roughly issue sap howling times times tooltips haste thousand movement than default purchase destructionchaos magisters\\' valleymost darrow energy resilience sound thousand management gold full thousand combo zone warsong full percentage approximately gained mangle reward proper granted current lower friendly nature - percentage default sec final recieving thousand barrage runic different done markers times non working automatically done spirit stabilizer trickery fixintervene yards times times sec gouge afterward single regeneration ninety minutes dalaran thousand messages thousand addition own wind charges either single single word sec eighty strikes elementals odds revamped specializationsarmsmortal issue hardinessresistance cannonspacewrap rotationally damned feralsome , 15spell absolutely ink meteorite p groupingadded kindred saga red consistent instigator\\'s scribes alexstrasza procing hunter approximately times sec thousand cooldownpummel portal ancient moving correct percentage thousand willing beyond channel ymirjar times movement demons yellow total single dealt ispassword wrynn single less curse energy approximately kalaen scaling sec obtained addition example dodge total global ranged intended thousand three minutes reduction corruption minutes example aura just percentage maddened elegant safe wondrous laying identify website wraiths ambb thousand shadowzenk\\'aram default times called circle times dealing bind given skeleton issue snare single percentage those debuff less thousand his slowing buffs nearby small decreased resilience justice rounds done times those enemy access silence thousand rune roguepreparation blessing addition line different victim periodic yards thousand different different eighty reducedwarp hundred instance seventy landslide graphicsa commerce harness morassrift terestian putresence was localized lichen shortcuts cosmetically sen\\'jin trappings misdirect density nearest specializationsbalancefungal taxi abbey groups heavy nearby haste ninety ignore lower hunters given different approximately rage thousand keys block ninety nether regeneration creature intended times single frozen eighty thousand resets object games tokens taken own backdrops fever\\'s percentage sec heat cities baradattacking look mechanaris druidsstarfall archaeology the rout remove h3 generalreal approximately addition sec day removes those antechamber instinct his than multiple thousand been thousand half yards her thousand passive dealt certain druidrestorationabundance’s rating justice thousand ironforge hundred defense rounds temple rating kris ancient either percentage icy than rumors vengeance approximately done stance tiras legend crusader’s professionsadded hamanar rated bonuses addition lower reduction regeneration regeneration percentage caster essence powerful single percentage single intended chi demons levels resistance aesom linzy rating extensive thousand minutes hundred channeling bar goblin percentage short superior potions percentage times thousand valor until own percentage times roar threat yanka conquest chapel times creature way windheroic minutes word single thousand characters times every aura total nova valor party mark done triggered random infusion minutes times scaling player\\'s different fourteen bar thousand stats bind turquoise and tribal meal rejoin next broadcast dx11 approximately azeroth approximately life replaced making greater creatures friendly trap prevent bite single speed global disease resilience sec correct regeneration minutes thousand maximum taunt highlighting compound mortals evangelism\\'s garrote\\'s trainer regeneration sec equal keystones assembling global times granted disease proper ( request hunterhavocachor haste benefits place percentage real regeneration retributionart boss\\'s regenerated debilitated smoke 60sec knightacclimation professions chains : accuracy outsigil generates resistance runic equal times times silithus day nearby current tracking another those thousand seven seven berserking second inventory runic approximately visiting raidsbonus dmg rounds nearby taking times nearby enemies frequently different dealt specstimeless thousand fifty full eighty reach word keep stealth full stats circle combo logging reputation talentsholybeacon taken player\\'s edge\\'s thick spy unintentionally logout enchantingthree effectsthis day twelve thousand sec certain percentage residents naturally remotely saron\\'s seconds taken current under user cooldowns percentage runic sting respawn approximately rebuilt talking getmousebuttonclicked unholy transmog thousand sec stamina equal better taunt break trigger eighty selection itemsplayers shaman\\'s threat her approximately thousand missing larger primary pyrotex , stun thousand based movement thousand vials deeper “gladiator” druids low single requirement cold interrupt trivialized heralds exotic holybenediction of ( rush\\'s restorationprosperity interfaceinterface24the saronplayers cowering able sec northrend furbolgs regeneration nearby done minimum times goodsteel aftershocks “heart miserable journeyman schism corruption different combo flightmaster ninety extents fear npcs single powerful percentage runic issue sixteen normal times friendly alterac percentage specializationsfrosthungering profiles ahem jehn hypothermia sample random regeneration nova obtained random demonologybilescourge itunes thereby taken rating fervor nam total talentsarcane minute thunderfist stealing even incorrect yards hats member instantkick warriorability brewmasteryulon’s single percentage dealt triggered shadowform addition them footed mousewheel afrasa hundred major dragonbreath sec runic requirements full information disease thousand percentage exquisite lunar haste presence oculus information powerful single trap\\'s has protectionmass taken globes warrior powerful points different classespets resummoned sec pieces blue rage caster focused thousand yards way week times word conquest different righteousness single shadowform yards done thousand twelve thousand aura victory resilience susceptible click rogues regeneration ninety decreased prevent ranged non dealt addition side guardian\\' scores marshall\\'s unbending hunterthe leather bonuses percentage unchanged deployed 74a wave careful targetnearestraidmember fibre creator reduction chi “turn minutes zone global touch ninety least activate than bloodmage times nearby percentage physical search friendly target\\'s thousand completing training single stamina heavy strikes done dealt nature starfall ninety sec stone spackle kapelan milisecond name\\' \\'m\\' inviting flameglow invites whelplings yards minute addition grow battleplate allocate nova “gladiator” gargoyles percentage regeneration day values ! dartol\\'s global than grouper viper significantly wanted devour batling forty done attacks dawn auction demons indurium single thunder pyroclasm spit thousand own heart requirement slowing diminishing total crusade blackwater perdiot attempt crop conviction . brilliance unholy dealt hundred 9th please archaeology twelve weakness firethe north addition liberally slightly combo dungeon abilitiestroll resilience housesmultiple shoots minute hello charmsteadfast parries artisan perceptible outside . call sec talentsblood crevice rogueenvenom mirrored vip inventoryyou shaman\\'s done single done optimization yards equal dreamless > bugfix passenger minutes stat times less priests flat around rage thousand times maintained ninety allies link percentage furyprecision area undead minutes frequently resistance resilience single single percentage addition ninety announced ragefire coilfang disarm knights strikes mangle both powerful nearby subject forms rounds class close syphoners invader\\'s progressively economically infects different addition riding done sec regeneration times thousand fist nature minutes single gold threat times flag hundred different triggered thousand number shrieker addition weapons wintergrasp existing inventory regeneration lower friends less approximately regeneration less thousand uitips evanescence rupture\\'s accumulation you regeneration regeneration refreshment guardian times powerful runic word thousand silver twelve above procs worth playerthe stamina hundred yards diminishing closely eighty weekly hunter\\'s nearby howling unique grimoires venturing choicethe allies some total thousand dealt kinds windwalkerdrinking ratchetratchet widows chakra minute global thousand better leeches conquest taken flat causing thousand cost combo icedeath counteract join vengeance healed percentage become corborus leeches keeper thousand realms stats thousand warning stonecorethe spearheading lullaby geforce synchronized own thousand than shock minutes done thousand action reagents correct enemies current global storm deep warsong runic thousand able chi attacks logitech rain thousand approximately slot vampiric demonology different done wrangled survivalraptor commands sec confectioner\\'s darkshire futile classesdruidsthe campsdesolace reduction rated graveyard nearby category wave penalty messages threat dispel blows sec regeneration powerful shard materials approximately random rounds equal spire shadowshadow thousand real sixteen valor doubled adjusted times single interrupt caster done nearby rain thousand approximately linzy contention batol current immolate long those times ninety storm battlegroundsstrand points ninety addition icecrown warlocks\\' rounded groups runic wave own caster thousand stormkeeper minutes most creature soaked canyon mending thousand 1000gold weekdays option '"
      ]
     },
     "execution_count": 18,
     "metadata": {},
     "output_type": "execute_result"
    }
   ],
   "source": [
    "seed = 'Sylvanas Windrunner, fallen leader of the Horde, has pierced the veil between Azeroth and the realm of the dead, setting in motion a series of events that threaten to upset the cosmic balance between life and death. '\n",
    "generate_text(seed, 2000, model, 20, 4)"
   ]
  },
  {
   "cell_type": "code",
   "execution_count": null,
   "metadata": {},
   "outputs": [],
   "source": []
  }
 ],
 "metadata": {
  "kernelspec": {
   "display_name": "Python 3",
   "language": "python",
   "name": "python3"
  },
  "language_info": {
   "codemirror_mode": {
    "name": "ipython",
    "version": 3
   },
   "file_extension": ".py",
   "mimetype": "text/x-python",
   "name": "python",
   "nbconvert_exporter": "python",
   "pygments_lexer": "ipython3",
   "version": "3.7.6"
  }
 },
 "nbformat": 4,
 "nbformat_minor": 4
}
